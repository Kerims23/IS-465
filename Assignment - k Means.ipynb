{
 "cells": [
  {
   "cell_type": "markdown",
   "metadata": {},
   "source": [
    "### Python Assignment: k-Means Clustering\n",
    "\n",
    "In this assignment, we will use k-Means to assign universities to different clusters based on a group of 16 measurements. \n",
    "It is very important to note that although we actually have the labels for this data set, we will NOT use them for the KMeans clustering algorithm, since it is an unsupervised learning algorithm.\n",
    "\n"
   ]
  },
  {
   "cell_type": "markdown",
   "metadata": {},
   "source": [
    "##### The Data\n",
    "\n",
    "We will use a data frame with 777 observations on the following 18 variables.\n",
    "\n",
    "Private:  A factor with levels No and Yes indicating private or public university\n",
    "\n",
    "Apps:  Number of applications received\n",
    "\n",
    "Accept:  Number of applications accepted\n",
    "\n",
    "Enroll:  Number of new students enrolled\n",
    "\n",
    "Top10perc: Pct. new students from top 10% of H.S. class\n",
    "\n",
    "Top25perc: Pct. new students from top 25% of H.S. class\n",
    "\n",
    "FUndergrad: Number of fulltime undergraduates\n",
    "\n",
    "PUndergrad: Number of parttime undergraduates\n",
    "\n",
    "Outstate: Out-of-state tuition\n",
    "\n",
    "RoomBoard: Room and board costs\n",
    "\n",
    "Books: Estimated book costs\n",
    "\n",
    "Personal: Estimated personal spending\n",
    "\n",
    "PhD: Pct. of faculty with Ph.D.’s\n",
    "\n",
    "Terminal: Pct. of faculty with terminal degree\n",
    "\n",
    "SFRatio: Student/faculty ratio\n",
    "\n",
    "perc_alumni: Pct. alumni who donate\n",
    "\n",
    "Expend: Instructional expenditure per student\n",
    "\n",
    "GradRate: Graduation rate"
   ]
  },
  {
   "cell_type": "markdown",
   "metadata": {},
   "source": [
    "### Step 1: Import the libraries you usually use for data analysis.\n",
    "For this assignment, you will need: numpy, pandas, seaborn, matplotlib.pyplot and scikit\n",
    "\n",
    "Don't forget to set %matplotlib inline"
   ]
  },
  {
   "cell_type": "code",
   "execution_count": null,
   "metadata": {},
   "outputs": [],
   "source": [
    "#Your importing codes here\n",
    "Test 123"
   ]
  },
  {
   "cell_type": "markdown",
   "metadata": {},
   "source": [
    "### Step 2: Get the data\n",
    "Read in the College_Data file using read_excel. Figure out how to set the first column as the index.\n"
   ]
  },
  {
   "cell_type": "code",
   "execution_count": null,
   "metadata": {},
   "outputs": [],
   "source": [
    "# Your code here\n"
   ]
  },
  {
   "cell_type": "code",
   "execution_count": null,
   "metadata": {},
   "outputs": [],
   "source": [
    "# Check the head of the data. check info. about the data"
   ]
  },
  {
   "cell_type": "markdown",
   "metadata": {},
   "source": [
    "### Step 3: Visualize the data"
   ]
  },
  {
   "cell_type": "code",
   "execution_count": null,
   "metadata": {},
   "outputs": [],
   "source": [
    "# Create a scatterplot of GradRate versus RoomBoard where the points are colored by the \"Private\" column\n",
    "\n",
    "# For a scatter plot, use the sns.lmplot method. do the shift-tab trick to understand its parameters.\n",
    "\n",
    "# sns.set_style('whitegrid') might make the background nicer to look at\n"
   ]
  },
  {
   "cell_type": "code",
   "execution_count": null,
   "metadata": {},
   "outputs": [],
   "source": [
    "# Now that you know the basics of scatter plot in Python, make another scatter plot with two attributes as x and y, \n",
    "# and A THIRD, categorical attribute as the color. Briefly analyze what you found\n"
   ]
  },
  {
   "cell_type": "code",
   "execution_count": null,
   "metadata": {},
   "outputs": [],
   "source": [
    "# Next, create a stacked histogram showing Out of State Tuition based on the Private column. \n",
    "# Try doing this using sns.FacetGrid. Here is how you do it:\n",
    "\n",
    "sns.set_style('darkgrid')\n",
    "g = sns.FacetGrid(df,hue=\"Private\",palette='coolwarm',size=6,aspect=2)\n",
    "g = g.map(plt.hist,'Outstate',bins=20,alpha=0.7)"
   ]
  },
  {
   "cell_type": "code",
   "execution_count": null,
   "metadata": {},
   "outputs": [],
   "source": [
    "# Try create a different histogram. This time, analyze the distribution of gradRate based on the Private column -\n",
    "# Don't just copy and paste the code. Think about the parameters -- they might not all make sense now that what you \n",
    "# are measuring is different\n"
   ]
  },
  {
   "cell_type": "code",
   "execution_count": null,
   "metadata": {},
   "outputs": [],
   "source": [
    "# you might have noticed that one school has a grad Rate higher than 100%! Write some code to find which school that is"
   ]
  },
  {
   "cell_type": "code",
   "execution_count": null,
   "metadata": {},
   "outputs": [],
   "source": [
    "# Let's do some data cleansing -- either drop that school or set its grad Rate to 100. The choice is yours, but you need to\n",
    "# do it in Python below:"
   ]
  },
  {
   "cell_type": "markdown",
   "metadata": {},
   "source": [
    "### Step 3: Run k-Means\n",
    "Time to run the code!"
   ]
  },
  {
   "cell_type": "code",
   "execution_count": null,
   "metadata": {},
   "outputs": [],
   "source": [
    "# Create an instance of a K Means model with 2 clusters. name it kmeans\n"
   ]
  },
  {
   "cell_type": "code",
   "execution_count": null,
   "metadata": {},
   "outputs": [],
   "source": [
    "# Fit the model to all the data except for the Private label (I did it for you for this one):\n",
    "kmeans.fit(df.drop('Private',axis=1))"
   ]
  },
  {
   "cell_type": "code",
   "execution_count": null,
   "metadata": {},
   "outputs": [],
   "source": [
    "# What are the cluster center vectors?"
   ]
  },
  {
   "cell_type": "markdown",
   "metadata": {},
   "source": [
    "### Step 4: Evaluation\n",
    "There is no perfect way to evaluate clustering, since it is unsupervised. However, in this case, we do have the labels (private school or not), so we take advantage of this to evaluate our results. Just remember that you rarely have this luxury in the real world."
   ]
  },
  {
   "cell_type": "code",
   "execution_count": null,
   "metadata": {},
   "outputs": [],
   "source": [
    "# Create an attribute \"cluster\", it is 1 when kmeans result is consistent with the original label, and 0 otherwise\n",
    "# I have written the code for you:\n",
    "def converter(cluster):\n",
    "    if cluster=='Yes':\n",
    "        return 1\n",
    "    else:\n",
    "        return 0\n",
    "\n",
    "df['Cluster'] = df['Private'].apply(converter)\n",
    "\n"
   ]
  },
  {
   "cell_type": "code",
   "execution_count": null,
   "metadata": {},
   "outputs": [],
   "source": [
    "# Take a look at the data set and see how our kmeans works overall -- to actually get a quantitative analysis of \n",
    "# its performance, you can run the following code. But don't worry about its meanings yet. We will have a much more\n",
    "# in-depth look at the confusian matrix later, when we evaluate a classification algorithm\n",
    "\n",
    "from sklearn.metrics import confusion_matrix,classification_report\n",
    "print(confusion_matrix(df['Cluster'],kmeans.labels_))\n",
    "print(classification_report(df['Cluster'],kmeans.labels_))"
   ]
  }
 ],
 "metadata": {
  "kernelspec": {
   "display_name": "Python 3",
   "language": "python",
   "name": "python3"
  },
  "language_info": {
   "codemirror_mode": {
    "name": "ipython",
    "version": 3
   },
   "file_extension": ".py",
   "mimetype": "text/x-python",
   "name": "python",
   "nbconvert_exporter": "python",
   "pygments_lexer": "ipython3",
   "version": "3.7.4"
  }
 },
 "nbformat": 4,
 "nbformat_minor": 2
}
